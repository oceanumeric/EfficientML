{
 "cells": [
  {
   "cell_type": "markdown",
   "metadata": {},
   "source": [
    "# Random Forests"
   ]
  },
  {
   "cell_type": "code",
   "execution_count": 39,
   "metadata": {},
   "outputs": [],
   "source": [
    "import re\n",
    "import numpy as np\n",
    "import pandas as pd\n",
    "import seaborn as sns\n",
    "from matplotlib import pyplot as plt\n",
    "from sklearn.model_selection import train_test_split\n",
    "from sklearn.metrics import mean_absolute_error"
   ]
  },
  {
   "cell_type": "code",
   "execution_count": 2,
   "metadata": {},
   "outputs": [],
   "source": [
    "df = pd.read_csv(\"../data/titanic/train.csv\")\n",
    "df_test = pd.read_csv(\"../data/titanic/test.csv\")"
   ]
  },
  {
   "cell_type": "code",
   "execution_count": 3,
   "metadata": {},
   "outputs": [
    {
     "name": "stdout",
     "output_type": "stream",
     "text": [
      "<class 'pandas.core.frame.DataFrame'>\n",
      "RangeIndex: 891 entries, 0 to 890\n",
      "Data columns (total 12 columns):\n",
      " #   Column       Non-Null Count  Dtype  \n",
      "---  ------       --------------  -----  \n",
      " 0   PassengerId  891 non-null    int64  \n",
      " 1   Survived     891 non-null    int64  \n",
      " 2   Pclass       891 non-null    int64  \n",
      " 3   Name         891 non-null    object \n",
      " 4   Sex          891 non-null    object \n",
      " 5   Age          714 non-null    float64\n",
      " 6   SibSp        891 non-null    int64  \n",
      " 7   Parch        891 non-null    int64  \n",
      " 8   Ticket       891 non-null    object \n",
      " 9   Fare         891 non-null    float64\n",
      " 10  Cabin        204 non-null    object \n",
      " 11  Embarked     889 non-null    object \n",
      "dtypes: float64(2), int64(5), object(5)\n",
      "memory usage: 83.7+ KB\n"
     ]
    }
   ],
   "source": [
    "df.info()"
   ]
  },
  {
   "cell_type": "code",
   "execution_count": 4,
   "metadata": {},
   "outputs": [
    {
     "data": {
      "text/plain": [
       "PassengerId      0\n",
       "Survived         0\n",
       "Pclass           0\n",
       "Name             0\n",
       "Sex              0\n",
       "Age            177\n",
       "SibSp            0\n",
       "Parch            0\n",
       "Ticket           0\n",
       "Fare             0\n",
       "Cabin          687\n",
       "Embarked         2\n",
       "dtype: int64"
      ]
     },
     "execution_count": 4,
     "metadata": {},
     "output_type": "execute_result"
    }
   ],
   "source": [
    "df.isna().sum()"
   ]
  },
  {
   "cell_type": "code",
   "execution_count": 5,
   "metadata": {},
   "outputs": [
    {
     "data": {
      "text/html": [
       "<div>\n",
       "<style scoped>\n",
       "    .dataframe tbody tr th:only-of-type {\n",
       "        vertical-align: middle;\n",
       "    }\n",
       "\n",
       "    .dataframe tbody tr th {\n",
       "        vertical-align: top;\n",
       "    }\n",
       "\n",
       "    .dataframe thead th {\n",
       "        text-align: right;\n",
       "    }\n",
       "</style>\n",
       "<table border=\"1\" class=\"dataframe\">\n",
       "  <thead>\n",
       "    <tr style=\"text-align: right;\">\n",
       "      <th></th>\n",
       "      <th>PassengerId</th>\n",
       "      <th>Survived</th>\n",
       "      <th>Pclass</th>\n",
       "      <th>Name</th>\n",
       "      <th>Sex</th>\n",
       "      <th>Age</th>\n",
       "      <th>SibSp</th>\n",
       "      <th>Parch</th>\n",
       "      <th>Ticket</th>\n",
       "      <th>Fare</th>\n",
       "      <th>Cabin</th>\n",
       "      <th>Embarked</th>\n",
       "    </tr>\n",
       "  </thead>\n",
       "  <tbody>\n",
       "    <tr>\n",
       "      <th>407</th>\n",
       "      <td>408</td>\n",
       "      <td>1</td>\n",
       "      <td>2</td>\n",
       "      <td>Richards, Master. William Rowe</td>\n",
       "      <td>male</td>\n",
       "      <td>3.0</td>\n",
       "      <td>1</td>\n",
       "      <td>1</td>\n",
       "      <td>29106</td>\n",
       "      <td>18.750</td>\n",
       "      <td>NaN</td>\n",
       "      <td>S</td>\n",
       "    </tr>\n",
       "    <tr>\n",
       "      <th>179</th>\n",
       "      <td>180</td>\n",
       "      <td>0</td>\n",
       "      <td>3</td>\n",
       "      <td>Leonard, Mr. Lionel</td>\n",
       "      <td>male</td>\n",
       "      <td>36.0</td>\n",
       "      <td>0</td>\n",
       "      <td>0</td>\n",
       "      <td>LINE</td>\n",
       "      <td>0.000</td>\n",
       "      <td>NaN</td>\n",
       "      <td>S</td>\n",
       "    </tr>\n",
       "    <tr>\n",
       "      <th>590</th>\n",
       "      <td>591</td>\n",
       "      <td>0</td>\n",
       "      <td>3</td>\n",
       "      <td>Rintamaki, Mr. Matti</td>\n",
       "      <td>male</td>\n",
       "      <td>35.0</td>\n",
       "      <td>0</td>\n",
       "      <td>0</td>\n",
       "      <td>STON/O 2. 3101273</td>\n",
       "      <td>7.125</td>\n",
       "      <td>NaN</td>\n",
       "      <td>S</td>\n",
       "    </tr>\n",
       "    <tr>\n",
       "      <th>227</th>\n",
       "      <td>228</td>\n",
       "      <td>0</td>\n",
       "      <td>3</td>\n",
       "      <td>Lovell, Mr. John Hall (\"Henry\")</td>\n",
       "      <td>male</td>\n",
       "      <td>20.5</td>\n",
       "      <td>0</td>\n",
       "      <td>0</td>\n",
       "      <td>A/5 21173</td>\n",
       "      <td>7.250</td>\n",
       "      <td>NaN</td>\n",
       "      <td>S</td>\n",
       "    </tr>\n",
       "    <tr>\n",
       "      <th>149</th>\n",
       "      <td>150</td>\n",
       "      <td>0</td>\n",
       "      <td>2</td>\n",
       "      <td>Byles, Rev. Thomas Roussel Davids</td>\n",
       "      <td>male</td>\n",
       "      <td>42.0</td>\n",
       "      <td>0</td>\n",
       "      <td>0</td>\n",
       "      <td>244310</td>\n",
       "      <td>13.000</td>\n",
       "      <td>NaN</td>\n",
       "      <td>S</td>\n",
       "    </tr>\n",
       "  </tbody>\n",
       "</table>\n",
       "</div>"
      ],
      "text/plain": [
       "     PassengerId  Survived  Pclass                               Name   Sex  \\\n",
       "407          408         1       2     Richards, Master. William Rowe  male   \n",
       "179          180         0       3                Leonard, Mr. Lionel  male   \n",
       "590          591         0       3               Rintamaki, Mr. Matti  male   \n",
       "227          228         0       3    Lovell, Mr. John Hall (\"Henry\")  male   \n",
       "149          150         0       2  Byles, Rev. Thomas Roussel Davids  male   \n",
       "\n",
       "      Age  SibSp  Parch             Ticket    Fare Cabin Embarked  \n",
       "407   3.0      1      1              29106  18.750   NaN        S  \n",
       "179  36.0      0      0               LINE   0.000   NaN        S  \n",
       "590  35.0      0      0  STON/O 2. 3101273   7.125   NaN        S  \n",
       "227  20.5      0      0          A/5 21173   7.250   NaN        S  \n",
       "149  42.0      0      0             244310  13.000   NaN        S  "
      ]
     },
     "execution_count": 5,
     "metadata": {},
     "output_type": "execute_result"
    }
   ],
   "source": [
    "df.sample(5)"
   ]
  },
  {
   "cell_type": "code",
   "execution_count": 6,
   "metadata": {},
   "outputs": [],
   "source": [
    "def proc_data(df):\n",
    "    # in place\n",
    "    df['Fare'] = df.Fare.fillna(0)\n",
    "    df['LogFare'] = np.log1p(df['Fare'])\n",
    "    df['Embarked'] = pd.Categorical(df.Embarked)\n",
    "    df['Sex'] = pd.Categorical(df.Sex)\n",
    "\n",
    "proc_data(df)\n",
    "proc_data(df_test)"
   ]
  },
  {
   "cell_type": "code",
   "execution_count": 7,
   "metadata": {},
   "outputs": [
    {
     "name": "stdout",
     "output_type": "stream",
     "text": [
      "<class 'pandas.core.frame.DataFrame'>\n",
      "RangeIndex: 891 entries, 0 to 890\n",
      "Data columns (total 13 columns):\n",
      " #   Column       Non-Null Count  Dtype   \n",
      "---  ------       --------------  -----   \n",
      " 0   PassengerId  891 non-null    int64   \n",
      " 1   Survived     891 non-null    int64   \n",
      " 2   Pclass       891 non-null    int64   \n",
      " 3   Name         891 non-null    object  \n",
      " 4   Sex          891 non-null    category\n",
      " 5   Age          714 non-null    float64 \n",
      " 6   SibSp        891 non-null    int64   \n",
      " 7   Parch        891 non-null    int64   \n",
      " 8   Ticket       891 non-null    object  \n",
      " 9   Fare         891 non-null    float64 \n",
      " 10  Cabin        204 non-null    object  \n",
      " 11  Embarked     889 non-null    category\n",
      " 12  LogFare      891 non-null    float64 \n",
      "dtypes: category(2), float64(3), int64(5), object(3)\n",
      "memory usage: 78.7+ KB\n"
     ]
    }
   ],
   "source": [
    "df.info()"
   ]
  },
  {
   "cell_type": "code",
   "execution_count": 8,
   "metadata": {},
   "outputs": [
    {
     "name": "stdout",
     "output_type": "stream",
     "text": [
      "<class 'pandas.core.frame.DataFrame'>\n",
      "RangeIndex: 418 entries, 0 to 417\n",
      "Data columns (total 12 columns):\n",
      " #   Column       Non-Null Count  Dtype   \n",
      "---  ------       --------------  -----   \n",
      " 0   PassengerId  418 non-null    int64   \n",
      " 1   Pclass       418 non-null    int64   \n",
      " 2   Name         418 non-null    object  \n",
      " 3   Sex          418 non-null    category\n",
      " 4   Age          332 non-null    float64 \n",
      " 5   SibSp        418 non-null    int64   \n",
      " 6   Parch        418 non-null    int64   \n",
      " 7   Ticket       418 non-null    object  \n",
      " 8   Fare         418 non-null    float64 \n",
      " 9   Cabin        91 non-null     object  \n",
      " 10  Embarked     418 non-null    category\n",
      " 11  LogFare      418 non-null    float64 \n",
      "dtypes: category(2), float64(3), int64(4), object(3)\n",
      "memory usage: 33.8+ KB\n"
     ]
    }
   ],
   "source": [
    "df_test.info()"
   ]
  },
  {
   "cell_type": "code",
   "execution_count": 9,
   "metadata": {},
   "outputs": [
    {
     "data": {
      "text/plain": [
       "0      male\n",
       "1    female\n",
       "2    female\n",
       "3    female\n",
       "4      male\n",
       "Name: Sex, dtype: category\n",
       "Categories (2, object): ['female', 'male']"
      ]
     },
     "execution_count": 9,
     "metadata": {},
     "output_type": "execute_result"
    }
   ],
   "source": [
    "df.Sex.head()"
   ]
  },
  {
   "cell_type": "code",
   "execution_count": 10,
   "metadata": {},
   "outputs": [
    {
     "data": {
      "text/plain": [
       "0    1\n",
       "1    0\n",
       "2    0\n",
       "3    0\n",
       "4    1\n",
       "dtype: int8"
      ]
     },
     "execution_count": 10,
     "metadata": {},
     "output_type": "execute_result"
    }
   ],
   "source": [
    "df.Sex.cat.codes.head()"
   ]
  },
  {
   "cell_type": "code",
   "execution_count": 11,
   "metadata": {},
   "outputs": [],
   "source": [
    "# group variables\n",
    "cats = ['Sex', 'Embarked']\n",
    "conts = ['Age', 'SibSp', 'Parch', 'LogFare', 'Pclass']\n",
    "dep = ['Survived']"
   ]
  },
  {
   "cell_type": "code",
   "execution_count": 12,
   "metadata": {},
   "outputs": [
    {
     "data": {
      "image/png": "[encoded data removed]",
      "text/plain": [
       "<Figure size 900x450 with 2 Axes>"
      ]
     },
     "metadata": {},
     "output_type": "display_data"
    }
   ],
   "source": [
    "# plot gender vs survival rate and histogram\n",
    "fig, axes = plt.subplots(1, 2, figsize=(9, 4.5))\n",
    "sns.barplot(data=df, x='Sex', y='Survived', hue='Sex', ax=axes[0])\n",
    "axes[0].set(title=\"Survival Rate\")\n",
    "sns.countplot(data=df, x='Sex', hue='Sex', ax=axes[1])\n",
    "axes[1].set(title=\"Histogram\")\n",
    "fig.show()"
   ]
  },
  {
   "cell_type": "code",
   "execution_count": 13,
   "metadata": {},
   "outputs": [
    {
     "name": "stdout",
     "output_type": "stream",
     "text": [
      "(668, 13) (223, 13)\n"
     ]
    }
   ],
   "source": [
    "np.random.seed(42)\n",
    "trn_df, val_df = train_test_split(df, test_size=0.25)\n",
    "print(trn_df.shape, val_df.shape)"
   ]
  },
  {
   "cell_type": "code",
   "execution_count": 14,
   "metadata": {},
   "outputs": [],
   "source": [
    "# change categorical variables as code\n",
    "trn_df[cats] = trn_df[cats].apply(lambda x: x.cat.codes)\n",
    "val_df[cats] = val_df[cats].apply(lambda x: x.cat.codes)"
   ]
  },
  {
   "cell_type": "code",
   "execution_count": 15,
   "metadata": {},
   "outputs": [
    {
     "data": {
      "text/html": [
       "<div>\n",
       "<style scoped>\n",
       "    .dataframe tbody tr th:only-of-type {\n",
       "        vertical-align: middle;\n",
       "    }\n",
       "\n",
       "    .dataframe tbody tr th {\n",
       "        vertical-align: top;\n",
       "    }\n",
       "\n",
       "    .dataframe thead th {\n",
       "        text-align: right;\n",
       "    }\n",
       "</style>\n",
       "<table border=\"1\" class=\"dataframe\">\n",
       "  <thead>\n",
       "    <tr style=\"text-align: right;\">\n",
       "      <th></th>\n",
       "      <th>PassengerId</th>\n",
       "      <th>Survived</th>\n",
       "      <th>Pclass</th>\n",
       "      <th>Name</th>\n",
       "      <th>Sex</th>\n",
       "      <th>Age</th>\n",
       "      <th>SibSp</th>\n",
       "      <th>Parch</th>\n",
       "      <th>Ticket</th>\n",
       "      <th>Fare</th>\n",
       "      <th>Cabin</th>\n",
       "      <th>Embarked</th>\n",
       "      <th>LogFare</th>\n",
       "    </tr>\n",
       "  </thead>\n",
       "  <tbody>\n",
       "    <tr>\n",
       "      <th>755</th>\n",
       "      <td>756</td>\n",
       "      <td>1</td>\n",
       "      <td>2</td>\n",
       "      <td>Hamalainen, Master. Viljo</td>\n",
       "      <td>1</td>\n",
       "      <td>0.67</td>\n",
       "      <td>1</td>\n",
       "      <td>1</td>\n",
       "      <td>250649</td>\n",
       "      <td>14.5000</td>\n",
       "      <td>NaN</td>\n",
       "      <td>2</td>\n",
       "      <td>2.740840</td>\n",
       "    </tr>\n",
       "    <tr>\n",
       "      <th>644</th>\n",
       "      <td>645</td>\n",
       "      <td>1</td>\n",
       "      <td>3</td>\n",
       "      <td>Baclini, Miss. Eugenie</td>\n",
       "      <td>0</td>\n",
       "      <td>0.75</td>\n",
       "      <td>2</td>\n",
       "      <td>1</td>\n",
       "      <td>2666</td>\n",
       "      <td>19.2583</td>\n",
       "      <td>NaN</td>\n",
       "      <td>0</td>\n",
       "      <td>3.008565</td>\n",
       "    </tr>\n",
       "    <tr>\n",
       "      <th>364</th>\n",
       "      <td>365</td>\n",
       "      <td>0</td>\n",
       "      <td>3</td>\n",
       "      <td>O'Brien, Mr. Thomas</td>\n",
       "      <td>1</td>\n",
       "      <td>NaN</td>\n",
       "      <td>1</td>\n",
       "      <td>0</td>\n",
       "      <td>370365</td>\n",
       "      <td>15.5000</td>\n",
       "      <td>NaN</td>\n",
       "      <td>1</td>\n",
       "      <td>2.803360</td>\n",
       "    </tr>\n",
       "    <tr>\n",
       "      <th>317</th>\n",
       "      <td>318</td>\n",
       "      <td>0</td>\n",
       "      <td>2</td>\n",
       "      <td>Moraweck, Dr. Ernest</td>\n",
       "      <td>1</td>\n",
       "      <td>54.00</td>\n",
       "      <td>0</td>\n",
       "      <td>0</td>\n",
       "      <td>29011</td>\n",
       "      <td>14.0000</td>\n",
       "      <td>NaN</td>\n",
       "      <td>2</td>\n",
       "      <td>2.708050</td>\n",
       "    </tr>\n",
       "    <tr>\n",
       "      <th>228</th>\n",
       "      <td>229</td>\n",
       "      <td>0</td>\n",
       "      <td>2</td>\n",
       "      <td>Fahlstrom, Mr. Arne Jonas</td>\n",
       "      <td>1</td>\n",
       "      <td>18.00</td>\n",
       "      <td>0</td>\n",
       "      <td>0</td>\n",
       "      <td>236171</td>\n",
       "      <td>13.0000</td>\n",
       "      <td>NaN</td>\n",
       "      <td>2</td>\n",
       "      <td>2.639057</td>\n",
       "    </tr>\n",
       "  </tbody>\n",
       "</table>\n",
       "</div>"
      ],
      "text/plain": [
       "     PassengerId  Survived  Pclass                       Name  Sex    Age  \\\n",
       "755          756         1       2  Hamalainen, Master. Viljo    1   0.67   \n",
       "644          645         1       3     Baclini, Miss. Eugenie    0   0.75   \n",
       "364          365         0       3        O'Brien, Mr. Thomas    1    NaN   \n",
       "317          318         0       2       Moraweck, Dr. Ernest    1  54.00   \n",
       "228          229         0       2  Fahlstrom, Mr. Arne Jonas    1  18.00   \n",
       "\n",
       "     SibSp  Parch  Ticket     Fare Cabin  Embarked   LogFare  \n",
       "755      1      1  250649  14.5000   NaN         2  2.740840  \n",
       "644      2      1    2666  19.2583   NaN         0  3.008565  \n",
       "364      1      0  370365  15.5000   NaN         1  2.803360  \n",
       "317      0      0   29011  14.0000   NaN         2  2.708050  \n",
       "228      0      0  236171  13.0000   NaN         2  2.639057  "
      ]
     },
     "execution_count": 15,
     "metadata": {},
     "output_type": "execute_result"
    }
   ],
   "source": [
    "trn_df.sample(5)"
   ]
  },
  {
   "cell_type": "code",
   "execution_count": 16,
   "metadata": {},
   "outputs": [
    {
     "data": {
      "text/html": [
       "<div>\n",
       "<style scoped>\n",
       "    .dataframe tbody tr th:only-of-type {\n",
       "        vertical-align: middle;\n",
       "    }\n",
       "\n",
       "    .dataframe tbody tr th {\n",
       "        vertical-align: top;\n",
       "    }\n",
       "\n",
       "    .dataframe thead th {\n",
       "        text-align: right;\n",
       "    }\n",
       "</style>\n",
       "<table border=\"1\" class=\"dataframe\">\n",
       "  <thead>\n",
       "    <tr style=\"text-align: right;\">\n",
       "      <th></th>\n",
       "      <th>PassengerId</th>\n",
       "      <th>Survived</th>\n",
       "      <th>Pclass</th>\n",
       "      <th>Name</th>\n",
       "      <th>Sex</th>\n",
       "      <th>Age</th>\n",
       "      <th>SibSp</th>\n",
       "      <th>Parch</th>\n",
       "      <th>Ticket</th>\n",
       "      <th>Fare</th>\n",
       "      <th>Cabin</th>\n",
       "      <th>Embarked</th>\n",
       "      <th>LogFare</th>\n",
       "    </tr>\n",
       "  </thead>\n",
       "  <tbody>\n",
       "    <tr>\n",
       "      <th>620</th>\n",
       "      <td>621</td>\n",
       "      <td>0</td>\n",
       "      <td>3</td>\n",
       "      <td>Yasbeck, Mr. Antoni</td>\n",
       "      <td>1</td>\n",
       "      <td>27.0</td>\n",
       "      <td>1</td>\n",
       "      <td>0</td>\n",
       "      <td>2659</td>\n",
       "      <td>14.4542</td>\n",
       "      <td>NaN</td>\n",
       "      <td>0</td>\n",
       "      <td>2.737881</td>\n",
       "    </tr>\n",
       "    <tr>\n",
       "      <th>477</th>\n",
       "      <td>478</td>\n",
       "      <td>0</td>\n",
       "      <td>3</td>\n",
       "      <td>Braund, Mr. Lewis Richard</td>\n",
       "      <td>1</td>\n",
       "      <td>29.0</td>\n",
       "      <td>1</td>\n",
       "      <td>0</td>\n",
       "      <td>3460</td>\n",
       "      <td>7.0458</td>\n",
       "      <td>NaN</td>\n",
       "      <td>2</td>\n",
       "      <td>2.085150</td>\n",
       "    </tr>\n",
       "    <tr>\n",
       "      <th>39</th>\n",
       "      <td>40</td>\n",
       "      <td>1</td>\n",
       "      <td>3</td>\n",
       "      <td>Nicola-Yarred, Miss. Jamila</td>\n",
       "      <td>0</td>\n",
       "      <td>14.0</td>\n",
       "      <td>1</td>\n",
       "      <td>0</td>\n",
       "      <td>2651</td>\n",
       "      <td>11.2417</td>\n",
       "      <td>NaN</td>\n",
       "      <td>0</td>\n",
       "      <td>2.504848</td>\n",
       "    </tr>\n",
       "    <tr>\n",
       "      <th>796</th>\n",
       "      <td>797</td>\n",
       "      <td>1</td>\n",
       "      <td>1</td>\n",
       "      <td>Leader, Dr. Alice (Farnham)</td>\n",
       "      <td>0</td>\n",
       "      <td>49.0</td>\n",
       "      <td>0</td>\n",
       "      <td>0</td>\n",
       "      <td>17465</td>\n",
       "      <td>25.9292</td>\n",
       "      <td>D17</td>\n",
       "      <td>2</td>\n",
       "      <td>3.293211</td>\n",
       "    </tr>\n",
       "    <tr>\n",
       "      <th>227</th>\n",
       "      <td>228</td>\n",
       "      <td>0</td>\n",
       "      <td>3</td>\n",
       "      <td>Lovell, Mr. John Hall (\"Henry\")</td>\n",
       "      <td>1</td>\n",
       "      <td>20.5</td>\n",
       "      <td>0</td>\n",
       "      <td>0</td>\n",
       "      <td>A/5 21173</td>\n",
       "      <td>7.2500</td>\n",
       "      <td>NaN</td>\n",
       "      <td>2</td>\n",
       "      <td>2.110213</td>\n",
       "    </tr>\n",
       "  </tbody>\n",
       "</table>\n",
       "</div>"
      ],
      "text/plain": [
       "     PassengerId  Survived  Pclass                             Name  Sex  \\\n",
       "620          621         0       3              Yasbeck, Mr. Antoni    1   \n",
       "477          478         0       3        Braund, Mr. Lewis Richard    1   \n",
       "39            40         1       3      Nicola-Yarred, Miss. Jamila    0   \n",
       "796          797         1       1      Leader, Dr. Alice (Farnham)    0   \n",
       "227          228         0       3  Lovell, Mr. John Hall (\"Henry\")    1   \n",
       "\n",
       "      Age  SibSp  Parch     Ticket     Fare Cabin  Embarked   LogFare  \n",
       "620  27.0      1      0       2659  14.4542   NaN         0  2.737881  \n",
       "477  29.0      1      0       3460   7.0458   NaN         2  2.085150  \n",
       "39   14.0      1      0       2651  11.2417   NaN         0  2.504848  \n",
       "796  49.0      0      0      17465  25.9292   D17         2  3.293211  \n",
       "227  20.5      0      0  A/5 21173   7.2500   NaN         2  2.110213  "
      ]
     },
     "execution_count": 16,
     "metadata": {},
     "output_type": "execute_result"
    }
   ],
   "source": [
    "val_df.sample(5)"
   ]
  },
  {
   "cell_type": "code",
   "execution_count": 17,
   "metadata": {},
   "outputs": [],
   "source": [
    "def xs_y(df):\n",
    "    xs = df[cats+conts].copy()\n",
    "    y = df[dep].copy()\n",
    "    return xs, y"
   ]
  },
  {
   "cell_type": "code",
   "execution_count": 18,
   "metadata": {},
   "outputs": [],
   "source": [
    "trn_xs, trn_y = xs_y(trn_df)"
   ]
  },
  {
   "cell_type": "code",
   "execution_count": 19,
   "metadata": {},
   "outputs": [
    {
     "name": "stdout",
     "output_type": "stream",
     "text": [
      "(668, 7) (668, 1)\n"
     ]
    }
   ],
   "source": [
    "print(trn_xs.shape, trn_y.shape)"
   ]
  },
  {
   "cell_type": "code",
   "execution_count": 20,
   "metadata": {},
   "outputs": [],
   "source": [
    "val_xs, val_y = xs_y(val_df)"
   ]
  },
  {
   "cell_type": "code",
   "execution_count": 21,
   "metadata": {},
   "outputs": [
    {
     "name": "stdout",
     "output_type": "stream",
     "text": [
      "(223, 7) (223, 1)\n"
     ]
    }
   ],
   "source": [
    "print(val_xs.shape, val_y.shape)"
   ]
  },
  {
   "cell_type": "code",
   "execution_count": 22,
   "metadata": {},
   "outputs": [],
   "source": [
    "# simple predict, survived if sex == 0 (female)\n",
    "preds = val_xs.Sex == 0"
   ]
  },
  {
   "cell_type": "code",
   "execution_count": 23,
   "metadata": {},
   "outputs": [
    {
     "data": {
      "text/plain": [
       "0.21524663677130046"
      ]
     },
     "execution_count": 23,
     "metadata": {},
     "output_type": "execute_result"
    }
   ],
   "source": [
    "mean_absolute_error(val_y, preds)"
   ]
  },
  {
   "cell_type": "code",
   "execution_count": 24,
   "metadata": {},
   "outputs": [
    {
     "data": {
      "text/plain": [
       "count    668.000000\n",
       "mean       2.945562\n",
       "std        0.981843\n",
       "min        0.000000\n",
       "25%        2.188856\n",
       "50%        2.734368\n",
       "75%        3.449988\n",
       "max        6.240917\n",
       "Name: LogFare, dtype: float64"
      ]
     },
     "execution_count": 24,
     "metadata": {},
     "output_type": "execute_result"
    }
   ],
   "source": [
    "# check logfare\n",
    "trn_df.LogFare.describe()"
   ]
  },
  {
   "cell_type": "code",
   "execution_count": 25,
   "metadata": {},
   "outputs": [
    {
     "data": {
      "image/png": "[encoded data removed]",
      "text/plain": [
       "<Figure size 900x450 with 2 Axes>"
      ]
     },
     "metadata": {},
     "output_type": "display_data"
    }
   ],
   "source": [
    "# only take LogFare > 0\n",
    "df_fare = trn_df[trn_df.LogFare > 0]\n",
    "fix, axes = plt.subplots(1,2, figsize=(9, 4.5))\n",
    "sns.boxenplot(data=df_fare, x='Survived', y='LogFare', hue='Survived', ax=axes[0])\n",
    "axes[0].get_legend().remove()\n",
    "sns.kdeplot(data=df_fare, x='LogFare', ax=axes[1])\n",
    "fig.show()"
   ]
  },
  {
   "cell_type": "code",
   "execution_count": 26,
   "metadata": {},
   "outputs": [],
   "source": [
    "# a function that calcualte side score\n",
    "def _side_score(side, y):\n",
    "    # side:ndarray[bool]\n",
    "    # y: ndarray\n",
    "    tot = side.sum()\n",
    "    if tot <= 1: return 0\n",
    "    return y[side].std()*tot  # will be used to calcualte the weighted average"
   ]
  },
  {
   "cell_type": "code",
   "execution_count": 27,
   "metadata": {},
   "outputs": [],
   "source": [
    "def score(col, y, split):\n",
    "    # col: pd.series\n",
    "    # y: ndarray\n",
    "    # split: float\n",
    "    lhs = col <= split\n",
    "    return (_side_score(lhs, y) + _side_score(~lhs, y))/len(y)"
   ]
  },
  {
   "cell_type": "code",
   "execution_count": 28,
   "metadata": {},
   "outputs": [
    {
     "data": {
      "text/plain": [
       "Survived    0.407875\n",
       "dtype: float64"
      ]
     },
     "execution_count": 28,
     "metadata": {},
     "output_type": "execute_result"
    }
   ],
   "source": [
    "# test score\n",
    "score(trn_xs['Sex'], trn_y, 0.5)"
   ]
  },
  {
   "cell_type": "code",
   "execution_count": 29,
   "metadata": {},
   "outputs": [
    {
     "data": {
      "text/plain": [
       "Survived    0.471809\n",
       "dtype: float64"
      ]
     },
     "execution_count": 29,
     "metadata": {},
     "output_type": "execute_result"
    }
   ],
   "source": [
    "score(trn_xs['LogFare'], trn_y, 2.7)"
   ]
  },
  {
   "cell_type": "markdown",
   "metadata": {},
   "source": [
    "## What is the score\n",
    "\n",
    "The score we calculate is the weighted average of the **standard deviation** target variable `y` for two different groups. Ideally, we want to our score as low as possible since this will give us a better split. This means that we want to have groups that should be different from each other."
   ]
  },
  {
   "cell_type": "code",
   "execution_count": 30,
   "metadata": {},
   "outputs": [],
   "source": [
    "def iscore(cols, split):\n",
    "    col_data = trn_xs[cols]\n",
    "    return score(col_data, trn_y, split)"
   ]
  },
  {
   "cell_type": "code",
   "execution_count": 31,
   "metadata": {},
   "outputs": [
    {
     "data": {
      "application/vnd.jupyter.widget-view+json": {
       "model_id": "d00d3d59aa944e95968edfe067658d48",
       "version_major": 2,
       "version_minor": 0
      },
      "text/plain": [
       "interactive(children=(Dropdown(description='cols', options=('Age', 'SibSp', 'Parch', 'LogFare', 'Pclass'), val…"
      ]
     },
     "metadata": {},
     "output_type": "display_data"
    }
   ],
   "source": [
    "from ipywidgets import interact\n",
    "interact(cols=conts, split=10)(iscore);"
   ]
  },
  {
   "cell_type": "code",
   "execution_count": 32,
   "metadata": {},
   "outputs": [
    {
     "data": {
      "application/vnd.jupyter.widget-view+json": {
       "model_id": "dcc85cd0ee334b94814ce6a9e96b7aec",
       "version_major": 2,
       "version_minor": 0
      },
      "text/plain": [
       "interactive(children=(Dropdown(description='cols', options=('Sex', 'Embarked'), value='Sex'), IntSlider(value=…"
      ]
     },
     "metadata": {},
     "output_type": "display_data"
    }
   ],
   "source": [
    "from ipywidgets import interact\n",
    "interact(cols=cats, split=2)(iscore);"
   ]
  },
  {
   "cell_type": "markdown",
   "metadata": {},
   "source": [
    "## How to find the best split?\n",
    "\n",
    "We can first sort the column and loop over the rows and find the cutoff point where we could have the lowest score."
   ]
  },
  {
   "cell_type": "code",
   "execution_count": 33,
   "metadata": {},
   "outputs": [
    {
     "data": {
      "text/plain": [
       "(6.0, array([0.47831672]))"
      ]
     },
     "execution_count": 33,
     "metadata": {},
     "output_type": "execute_result"
    }
   ],
   "source": [
    "def min_col(df, nm):\n",
    "    col,y = df[nm],df[dep]\n",
    "    unq = col.dropna().unique()\n",
    "    scores = np.array([score(col, y, o) for o in unq if not np.isnan(o)])\n",
    "    # get the idx for the lowest score\n",
    "    idx = scores.argmin()\n",
    "    return unq[idx],scores[idx]\n",
    "\n",
    "min_col(trn_df, \"Age\")"
   ]
  },
  {
   "cell_type": "code",
   "execution_count": 35,
   "metadata": {},
   "outputs": [
    {
     "data": {
      "text/plain": [
       "{'Sex': (0, array([0.40787531])),\n",
       " 'Embarked': (0, array([0.4780752])),\n",
       " 'Age': (6.0, array([0.47831672])),\n",
       " 'SibSp': (4, array([0.47837403])),\n",
       " 'Parch': (0, array([0.48052965])),\n",
       " 'LogFare': (2.4390808375825834, array([0.46208239])),\n",
       " 'Pclass': (2, array([0.46048262]))}"
      ]
     },
     "execution_count": 35,
     "metadata": {},
     "output_type": "execute_result"
    }
   ],
   "source": [
    "# get all columns\n",
    "cols = cats + conts\n",
    "{c:min_col(trn_df, c) for c in cols}"
   ]
  },
  {
   "cell_type": "markdown",
   "metadata": {},
   "source": [
    "As you can see that we have the best split for column `sex` when `sex = 0`. How could split the other columns? We will basically follow the number we have already calculated. But what about the order of the columns?\n",
    "\n",
    "## Building a decision tree"
   ]
  },
  {
   "cell_type": "code",
   "execution_count": 36,
   "metadata": {},
   "outputs": [],
   "source": [
    "from sklearn.tree import DecisionTreeClassifier, export_graphviz\n",
    "\n",
    "m = DecisionTreeClassifier(max_leaf_nodes=4).fit(trn_xs, trn_y);"
   ]
  },
  {
   "cell_type": "code",
   "execution_count": 37,
   "metadata": {},
   "outputs": [],
   "source": [
    "import graphviz\n",
    "\n",
    "def draw_tree(t, df, size=10, ratio=0.6, precision=2, **kwargs):\n",
    "    s=export_graphviz(t, out_file=None, feature_names=df.columns, filled=True, rounded=True,\n",
    "                      special_characters=True, rotate=False, precision=precision, **kwargs)\n",
    "    return graphviz.Source(re.sub('Tree {', f'Tree {{ size={size}; ratio={ratio}', s))"
   ]
  },
  {
   "cell_type": "code",
   "execution_count": 40,
   "metadata": {},
   "outputs": [
    {
     "data": {
      "image/svg+xml": [
       "<?xml version=\"1.0\" encoding=\"UTF-8\" standalone=\"no\"?>\n",
       "<!DOCTYPE svg PUBLIC \"-//W3C//DTD SVG 1.1//EN\"\n",
       " \"http://www.w3.org/Graphics/SVG/1.1/DTD/svg11.dtd\">\n",
       "<!-- Generated by graphviz version 2.43.0 (0)\n",
       " -->\n",
       "<!-- Title: Tree Pages: 1 -->\n",
       "<svg width=\"593pt\" height=\"358pt\"\n",
       " viewBox=\"0.00 0.00 592.50 358.40\" xmlns=\"http://www.w3.org/2000/svg\" xmlns:xlink=\"http://www.w3.org/1999/xlink\">\n",
       "<g id=\"graph0\" class=\"graph\" transform=\"scale(1 1) rotate(0) translate(4 354.4)\">\n",
       "<title>Tree</title>\n",
       "<polygon fill=\"white\" stroke=\"transparent\" points=\"-4,4 -4,-354.4 588.5,-354.4 588.5,4 -4,4\"/>\n",
       "<!-- 0 -->\n",
       "<g id=\"node1\" class=\"node\">\n",
       "<title>0</title>\n",
       "<path fill=\"#f5ceb2\" stroke=\"black\" d=\"M352,-339C352,-339 227,-339 227,-339 221,-339 215,-333 215,-327 215,-327 215,-283 215,-283 215,-277 221,-271 227,-271 227,-271 352,-271 352,-271 358,-271 364,-277 364,-283 364,-283 364,-327 364,-327 364,-333 358,-339 352,-339\"/>\n",
       "<text text-anchor=\"start\" x=\"254.5\" y=\"-323.8\" font-family=\"Helvetica,sans-Serif\" font-size=\"14.00\">Sex ≤ 0.5</text>\n",
       "<text text-anchor=\"start\" x=\"250\" y=\"-308.8\" font-family=\"Helvetica,sans-Serif\" font-size=\"14.00\">gini = 0.47</text>\n",
       "<text text-anchor=\"start\" x=\"236.5\" y=\"-293.8\" font-family=\"Helvetica,sans-Serif\" font-size=\"14.00\">samples = 668</text>\n",
       "<text text-anchor=\"start\" x=\"223\" y=\"-278.8\" font-family=\"Helvetica,sans-Serif\" font-size=\"14.00\">value = [415, 253]</text>\n",
       "</g>\n",
       "<!-- 1 -->\n",
       "<g id=\"node2\" class=\"node\">\n",
       "<title>1</title>\n",
       "<path fill=\"#7ebfee\" stroke=\"black\" d=\"M268.5,-199C268.5,-199 152.5,-199 152.5,-199 146.5,-199 140.5,-193 140.5,-187 140.5,-187 140.5,-143 140.5,-143 140.5,-137 146.5,-131 152.5,-131 152.5,-131 268.5,-131 268.5,-131 274.5,-131 280.5,-137 280.5,-143 280.5,-143 280.5,-187 280.5,-187 280.5,-193 274.5,-199 268.5,-199\"/>\n",
       "<text text-anchor=\"start\" x=\"167\" y=\"-183.8\" font-family=\"Helvetica,sans-Serif\" font-size=\"14.00\">Pclass ≤ 2.5</text>\n",
       "<text text-anchor=\"start\" x=\"171\" y=\"-168.8\" font-family=\"Helvetica,sans-Serif\" font-size=\"14.00\">gini = 0.38</text>\n",
       "<text text-anchor=\"start\" x=\"157.5\" y=\"-153.8\" font-family=\"Helvetica,sans-Serif\" font-size=\"14.00\">samples = 229</text>\n",
       "<text text-anchor=\"start\" x=\"148.5\" y=\"-138.8\" font-family=\"Helvetica,sans-Serif\" font-size=\"14.00\">value = [59, 170]</text>\n",
       "</g>\n",
       "<!-- 0&#45;&gt;1 -->\n",
       "<g id=\"edge1\" class=\"edge\">\n",
       "<title>0&#45;&gt;1</title>\n",
       "<path fill=\"none\" stroke=\"black\" d=\"M270.58,-270.95C259.76,-252.05 246.09,-228.17 234.52,-207.96\"/>\n",
       "<polygon fill=\"black\" stroke=\"black\" points=\"237.55,-206.2 229.54,-199.26 231.47,-209.68 237.55,-206.2\"/>\n",
       "<text text-anchor=\"middle\" x=\"222.98\" y=\"-219.69\" font-family=\"Helvetica,sans-Serif\" font-size=\"14.00\">True</text>\n",
       "</g>\n",
       "<!-- 2 -->\n",
       "<g id=\"node5\" class=\"node\">\n",
       "<title>2</title>\n",
       "<path fill=\"#eb9e67\" stroke=\"black\" d=\"M426.5,-199C426.5,-199 310.5,-199 310.5,-199 304.5,-199 298.5,-193 298.5,-187 298.5,-187 298.5,-143 298.5,-143 298.5,-137 304.5,-131 310.5,-131 310.5,-131 426.5,-131 426.5,-131 432.5,-131 438.5,-137 438.5,-143 438.5,-143 438.5,-187 438.5,-187 438.5,-193 432.5,-199 426.5,-199\"/>\n",
       "<text text-anchor=\"start\" x=\"333\" y=\"-183.8\" font-family=\"Helvetica,sans-Serif\" font-size=\"14.00\">Age ≤ 6.5</text>\n",
       "<text text-anchor=\"start\" x=\"329\" y=\"-168.8\" font-family=\"Helvetica,sans-Serif\" font-size=\"14.00\">gini = 0.31</text>\n",
       "<text text-anchor=\"start\" x=\"315.5\" y=\"-153.8\" font-family=\"Helvetica,sans-Serif\" font-size=\"14.00\">samples = 439</text>\n",
       "<text text-anchor=\"start\" x=\"306.5\" y=\"-138.8\" font-family=\"Helvetica,sans-Serif\" font-size=\"14.00\">value = [356, 83]</text>\n",
       "</g>\n",
       "<!-- 0&#45;&gt;2 -->\n",
       "<g id=\"edge4\" class=\"edge\">\n",
       "<title>0&#45;&gt;2</title>\n",
       "<path fill=\"none\" stroke=\"black\" d=\"M308.42,-270.95C319.24,-252.05 332.91,-228.17 344.48,-207.96\"/>\n",
       "<polygon fill=\"black\" stroke=\"black\" points=\"347.53,-209.68 349.46,-199.26 341.45,-206.2 347.53,-209.68\"/>\n",
       "<text text-anchor=\"middle\" x=\"356.02\" y=\"-219.69\" font-family=\"Helvetica,sans-Serif\" font-size=\"14.00\">False</text>\n",
       "</g>\n",
       "<!-- 3 -->\n",
       "<g id=\"node3\" class=\"node\">\n",
       "<title>3</title>\n",
       "<path fill=\"#40a0e6\" stroke=\"black\" d=\"M119,-62.5C119,-62.5 12,-62.5 12,-62.5 6,-62.5 0,-56.5 0,-50.5 0,-50.5 0,-21.5 0,-21.5 0,-15.5 6,-9.5 12,-9.5 12,-9.5 119,-9.5 119,-9.5 125,-9.5 131,-15.5 131,-21.5 131,-21.5 131,-50.5 131,-50.5 131,-56.5 125,-62.5 119,-62.5\"/>\n",
       "<text text-anchor=\"start\" x=\"26\" y=\"-47.3\" font-family=\"Helvetica,sans-Serif\" font-size=\"14.00\">gini = 0.06</text>\n",
       "<text text-anchor=\"start\" x=\"12.5\" y=\"-32.3\" font-family=\"Helvetica,sans-Serif\" font-size=\"14.00\">samples = 120</text>\n",
       "<text text-anchor=\"start\" x=\"8\" y=\"-17.3\" font-family=\"Helvetica,sans-Serif\" font-size=\"14.00\">value = [4, 116]</text>\n",
       "</g>\n",
       "<!-- 1&#45;&gt;3 -->\n",
       "<g id=\"edge2\" class=\"edge\">\n",
       "<title>1&#45;&gt;3</title>\n",
       "<path fill=\"none\" stroke=\"black\" d=\"M172.78,-130.96C151.11,-111.98 124,-88.24 102.46,-69.37\"/>\n",
       "<polygon fill=\"black\" stroke=\"black\" points=\"104.62,-66.61 94.79,-62.66 100.01,-71.88 104.62,-66.61\"/>\n",
       "</g>\n",
       "<!-- 4 -->\n",
       "<g id=\"node4\" class=\"node\">\n",
       "<title>4</title>\n",
       "<path fill=\"#fffdfb\" stroke=\"black\" d=\"M268,-62.5C268,-62.5 161,-62.5 161,-62.5 155,-62.5 149,-56.5 149,-50.5 149,-50.5 149,-21.5 149,-21.5 149,-15.5 155,-9.5 161,-9.5 161,-9.5 268,-9.5 268,-9.5 274,-9.5 280,-15.5 280,-21.5 280,-21.5 280,-50.5 280,-50.5 280,-56.5 274,-62.5 268,-62.5\"/>\n",
       "<text text-anchor=\"start\" x=\"179.5\" y=\"-47.3\" font-family=\"Helvetica,sans-Serif\" font-size=\"14.00\">gini = 0.5</text>\n",
       "<text text-anchor=\"start\" x=\"161.5\" y=\"-32.3\" font-family=\"Helvetica,sans-Serif\" font-size=\"14.00\">samples = 109</text>\n",
       "<text text-anchor=\"start\" x=\"157\" y=\"-17.3\" font-family=\"Helvetica,sans-Serif\" font-size=\"14.00\">value = [55, 54]</text>\n",
       "</g>\n",
       "<!-- 1&#45;&gt;4 -->\n",
       "<g id=\"edge3\" class=\"edge\">\n",
       "<title>1&#45;&gt;4</title>\n",
       "<path fill=\"none\" stroke=\"black\" d=\"M211.54,-130.96C212.1,-113.15 212.79,-91.14 213.37,-72.9\"/>\n",
       "<polygon fill=\"black\" stroke=\"black\" points=\"216.88,-72.76 213.69,-62.66 209.88,-72.54 216.88,-72.76\"/>\n",
       "</g>\n",
       "<!-- 5 -->\n",
       "<g id=\"node6\" class=\"node\">\n",
       "<title>5</title>\n",
       "<path fill=\"#88c4ef\" stroke=\"black\" d=\"M414.5,-62.5C414.5,-62.5 316.5,-62.5 316.5,-62.5 310.5,-62.5 304.5,-56.5 304.5,-50.5 304.5,-50.5 304.5,-21.5 304.5,-21.5 304.5,-15.5 310.5,-9.5 316.5,-9.5 316.5,-9.5 414.5,-9.5 414.5,-9.5 420.5,-9.5 426.5,-15.5 426.5,-21.5 426.5,-21.5 426.5,-50.5 426.5,-50.5 426.5,-56.5 420.5,-62.5 414.5,-62.5\"/>\n",
       "<text text-anchor=\"start\" x=\"326\" y=\"-47.3\" font-family=\"Helvetica,sans-Serif\" font-size=\"14.00\">gini = 0.41</text>\n",
       "<text text-anchor=\"start\" x=\"317\" y=\"-32.3\" font-family=\"Helvetica,sans-Serif\" font-size=\"14.00\">samples = 21</text>\n",
       "<text text-anchor=\"start\" x=\"312.5\" y=\"-17.3\" font-family=\"Helvetica,sans-Serif\" font-size=\"14.00\">value = [6, 15]</text>\n",
       "</g>\n",
       "<!-- 2&#45;&gt;5 -->\n",
       "<g id=\"edge5\" class=\"edge\">\n",
       "<title>2&#45;&gt;5</title>\n",
       "<path fill=\"none\" stroke=\"black\" d=\"M367.72,-130.96C367.3,-113.15 366.78,-91.14 366.35,-72.9\"/>\n",
       "<polygon fill=\"black\" stroke=\"black\" points=\"369.84,-72.57 366.11,-62.66 362.84,-72.74 369.84,-72.57\"/>\n",
       "</g>\n",
       "<!-- 6 -->\n",
       "<g id=\"node7\" class=\"node\">\n",
       "<title>6</title>\n",
       "<path fill=\"#ea995f\" stroke=\"black\" d=\"M572.5,-62.5C572.5,-62.5 456.5,-62.5 456.5,-62.5 450.5,-62.5 444.5,-56.5 444.5,-50.5 444.5,-50.5 444.5,-21.5 444.5,-21.5 444.5,-15.5 450.5,-9.5 456.5,-9.5 456.5,-9.5 572.5,-9.5 572.5,-9.5 578.5,-9.5 584.5,-15.5 584.5,-21.5 584.5,-21.5 584.5,-50.5 584.5,-50.5 584.5,-56.5 578.5,-62.5 572.5,-62.5\"/>\n",
       "<text text-anchor=\"start\" x=\"475\" y=\"-47.3\" font-family=\"Helvetica,sans-Serif\" font-size=\"14.00\">gini = 0.27</text>\n",
       "<text text-anchor=\"start\" x=\"461.5\" y=\"-32.3\" font-family=\"Helvetica,sans-Serif\" font-size=\"14.00\">samples = 418</text>\n",
       "<text text-anchor=\"start\" x=\"452.5\" y=\"-17.3\" font-family=\"Helvetica,sans-Serif\" font-size=\"14.00\">value = [350, 68]</text>\n",
       "</g>\n",
       "<!-- 2&#45;&gt;6 -->\n",
       "<g id=\"edge6\" class=\"edge\">\n",
       "<title>2&#45;&gt;6</title>\n",
       "<path fill=\"none\" stroke=\"black\" d=\"M406.48,-130.96C428.3,-111.98 455.6,-88.24 477.29,-69.37\"/>\n",
       "<polygon fill=\"black\" stroke=\"black\" points=\"479.76,-71.86 485.01,-62.66 475.16,-66.58 479.76,-71.86\"/>\n",
       "</g>\n",
       "</g>\n",
       "</svg>\n"
      ],
      "text/plain": [
       "<graphviz.sources.Source at 0x7f5945af8dc0>"
      ]
     },
     "execution_count": 40,
     "metadata": {},
     "output_type": "execute_result"
    }
   ],
   "source": [
    "# since we set max_leaf_nodes = 4, then we only have 3 leves of tree\n",
    "draw_tree(m, trn_xs, size=10)"
   ]
  },
  {
   "cell_type": "code",
   "execution_count": 41,
   "metadata": {},
   "outputs": [
    {
     "data": {
      "image/svg+xml": [
       "<?xml version=\"1.0\" encoding=\"UTF-8\" standalone=\"no\"?>\n",
       "<!DOCTYPE svg PUBLIC \"-//W3C//DTD SVG 1.1//EN\"\n",
       " \"http://www.w3.org/Graphics/SVG/1.1/DTD/svg11.dtd\">\n",
       "<!-- Generated by graphviz version 2.43.0 (0)\n",
       " -->\n",
       "<!-- Title: Tree Pages: 1 -->\n",
       "<svg width=\"864pt\" height=\"521pt\"\n",
       " viewBox=\"0.00 0.00 864.00 520.53\" xmlns=\"http://www.w3.org/2000/svg\" xmlns:xlink=\"http://www.w3.org/1999/xlink\">\n",
       "<g id=\"graph0\" class=\"graph\" transform=\"scale(1.36 1.36) rotate(0) translate(4 703.6)\">\n",
       "<title>Tree</title>\n",
       "<polygon fill=\"white\" stroke=\"transparent\" points=\"-4,4 -4,-703.6 1170.5,-703.6 1170.5,4 -4,4\"/>\n",
       "<!-- 0 -->\n",
       "<g id=\"node1\" class=\"node\">\n",
       "<title>0</title>\n",
       "<path fill=\"#f5ceb2\" stroke=\"black\" d=\"M627.5,-692C627.5,-692 502.5,-692 502.5,-692 496.5,-692 490.5,-686 490.5,-680 490.5,-680 490.5,-636 490.5,-636 490.5,-630 496.5,-624 502.5,-624 502.5,-624 627.5,-624 627.5,-624 633.5,-624 639.5,-630 639.5,-636 639.5,-636 639.5,-680 639.5,-680 639.5,-686 633.5,-692 627.5,-692\"/>\n",
       "<text text-anchor=\"start\" x=\"530\" y=\"-676.8\" font-family=\"Helvetica,sans-Serif\" font-size=\"14.00\">Sex ≤ 0.5</text>\n",
       "<text text-anchor=\"start\" x=\"525.5\" y=\"-661.8\" font-family=\"Helvetica,sans-Serif\" font-size=\"14.00\">gini = 0.47</text>\n",
       "<text text-anchor=\"start\" x=\"512\" y=\"-646.8\" font-family=\"Helvetica,sans-Serif\" font-size=\"14.00\">samples = 668</text>\n",
       "<text text-anchor=\"start\" x=\"498.5\" y=\"-631.8\" font-family=\"Helvetica,sans-Serif\" font-size=\"14.00\">value = [415, 253]</text>\n",
       "</g>\n",
       "<!-- 1 -->\n",
       "<g id=\"node2\" class=\"node\">\n",
       "<title>1</title>\n",
       "<path fill=\"#7ebfee\" stroke=\"black\" d=\"M476,-565C476,-565 360,-565 360,-565 354,-565 348,-559 348,-553 348,-553 348,-509 348,-509 348,-503 354,-497 360,-497 360,-497 476,-497 476,-497 482,-497 488,-503 488,-509 488,-509 488,-553 488,-553 488,-559 482,-565 476,-565\"/>\n",
       "<text text-anchor=\"start\" x=\"374.5\" y=\"-549.8\" font-family=\"Helvetica,sans-Serif\" font-size=\"14.00\">Pclass ≤ 2.5</text>\n",
       "<text text-anchor=\"start\" x=\"378.5\" y=\"-534.8\" font-family=\"Helvetica,sans-Serif\" font-size=\"14.00\">gini = 0.38</text>\n",
       "<text text-anchor=\"start\" x=\"365\" y=\"-519.8\" font-family=\"Helvetica,sans-Serif\" font-size=\"14.00\">samples = 229</text>\n",
       "<text text-anchor=\"start\" x=\"356\" y=\"-504.8\" font-family=\"Helvetica,sans-Serif\" font-size=\"14.00\">value = [59, 170]</text>\n",
       "</g>\n",
       "<!-- 0&#45;&gt;1 -->\n",
       "<g id=\"edge1\" class=\"edge\">\n",
       "<title>0&#45;&gt;1</title>\n",
       "<path fill=\"none\" stroke=\"black\" d=\"M525.99,-623.83C507.15,-607.8 484.38,-588.45 464.63,-571.65\"/>\n",
       "<polygon fill=\"black\" stroke=\"black\" points=\"466.82,-568.92 456.93,-565.11 462.29,-574.25 466.82,-568.92\"/>\n",
       "<text text-anchor=\"middle\" x=\"458.95\" y=\"-586.33\" font-family=\"Helvetica,sans-Serif\" font-size=\"14.00\">True</text>\n",
       "</g>\n",
       "<!-- 8 -->\n",
       "<g id=\"node9\" class=\"node\">\n",
       "<title>8</title>\n",
       "<path fill=\"#eb9e67\" stroke=\"black\" d=\"M779,-565C779,-565 663,-565 663,-565 657,-565 651,-559 651,-553 651,-553 651,-509 651,-509 651,-503 657,-497 663,-497 663,-497 779,-497 779,-497 785,-497 791,-503 791,-509 791,-509 791,-553 791,-553 791,-559 785,-565 779,-565\"/>\n",
       "<text text-anchor=\"start\" x=\"668\" y=\"-549.8\" font-family=\"Helvetica,sans-Serif\" font-size=\"14.00\">LogFare ≤ 3.31</text>\n",
       "<text text-anchor=\"start\" x=\"681.5\" y=\"-534.8\" font-family=\"Helvetica,sans-Serif\" font-size=\"14.00\">gini = 0.31</text>\n",
       "<text text-anchor=\"start\" x=\"668\" y=\"-519.8\" font-family=\"Helvetica,sans-Serif\" font-size=\"14.00\">samples = 439</text>\n",
       "<text text-anchor=\"start\" x=\"659\" y=\"-504.8\" font-family=\"Helvetica,sans-Serif\" font-size=\"14.00\">value = [356, 83]</text>\n",
       "</g>\n",
       "<!-- 0&#45;&gt;8 -->\n",
       "<g id=\"edge8\" class=\"edge\">\n",
       "<title>0&#45;&gt;8</title>\n",
       "<path fill=\"none\" stroke=\"black\" d=\"M606.4,-623.83C626.49,-607.73 650.77,-588.28 671.8,-571.43\"/>\n",
       "<polygon fill=\"black\" stroke=\"black\" points=\"674.07,-574.09 679.68,-565.11 669.69,-568.63 674.07,-574.09\"/>\n",
       "<text text-anchor=\"middle\" x=\"676.94\" y=\"-586.26\" font-family=\"Helvetica,sans-Serif\" font-size=\"14.00\">False</text>\n",
       "</g>\n",
       "<!-- 2 -->\n",
       "<g id=\"node3\" class=\"node\">\n",
       "<title>2</title>\n",
       "<path fill=\"#40a0e6\" stroke=\"black\" d=\"M254.5,-438C254.5,-438 147.5,-438 147.5,-438 141.5,-438 135.5,-432 135.5,-426 135.5,-426 135.5,-382 135.5,-382 135.5,-376 141.5,-370 147.5,-370 147.5,-370 254.5,-370 254.5,-370 260.5,-370 266.5,-376 266.5,-382 266.5,-382 266.5,-426 266.5,-426 266.5,-432 260.5,-438 254.5,-438\"/>\n",
       "<text text-anchor=\"start\" x=\"161\" y=\"-422.8\" font-family=\"Helvetica,sans-Serif\" font-size=\"14.00\">Age ≤ 29.5</text>\n",
       "<text text-anchor=\"start\" x=\"161.5\" y=\"-407.8\" font-family=\"Helvetica,sans-Serif\" font-size=\"14.00\">gini = 0.06</text>\n",
       "<text text-anchor=\"start\" x=\"148\" y=\"-392.8\" font-family=\"Helvetica,sans-Serif\" font-size=\"14.00\">samples = 120</text>\n",
       "<text text-anchor=\"start\" x=\"143.5\" y=\"-377.8\" font-family=\"Helvetica,sans-Serif\" font-size=\"14.00\">value = [4, 116]</text>\n",
       "</g>\n",
       "<!-- 1&#45;&gt;2 -->\n",
       "<g id=\"edge2\" class=\"edge\">\n",
       "<title>1&#45;&gt;2</title>\n",
       "<path fill=\"none\" stroke=\"black\" d=\"M360.7,-496.99C332.02,-480.47 297.13,-460.38 267.3,-443.19\"/>\n",
       "<polygon fill=\"black\" stroke=\"black\" points=\"269.03,-440.15 258.62,-438.19 265.54,-446.22 269.03,-440.15\"/>\n",
       "</g>\n",
       "<!-- 5 -->\n",
       "<g id=\"node6\" class=\"node\">\n",
       "<title>5</title>\n",
       "<path fill=\"#fffdfb\" stroke=\"black\" d=\"M471.5,-438C471.5,-438 364.5,-438 364.5,-438 358.5,-438 352.5,-432 352.5,-426 352.5,-426 352.5,-382 352.5,-382 352.5,-376 358.5,-370 364.5,-370 364.5,-370 471.5,-370 471.5,-370 477.5,-370 483.5,-376 483.5,-382 483.5,-382 483.5,-426 483.5,-426 483.5,-432 477.5,-438 471.5,-438\"/>\n",
       "<text text-anchor=\"start\" x=\"369.5\" y=\"-422.8\" font-family=\"Helvetica,sans-Serif\" font-size=\"14.00\">LogFare ≤ 2.7</text>\n",
       "<text text-anchor=\"start\" x=\"383\" y=\"-407.8\" font-family=\"Helvetica,sans-Serif\" font-size=\"14.00\">gini = 0.5</text>\n",
       "<text text-anchor=\"start\" x=\"365\" y=\"-392.8\" font-family=\"Helvetica,sans-Serif\" font-size=\"14.00\">samples = 109</text>\n",
       "<text text-anchor=\"start\" x=\"360.5\" y=\"-377.8\" font-family=\"Helvetica,sans-Serif\" font-size=\"14.00\">value = [55, 54]</text>\n",
       "</g>\n",
       "<!-- 1&#45;&gt;5 -->\n",
       "<g id=\"edge5\" class=\"edge\">\n",
       "<title>1&#45;&gt;5</title>\n",
       "<path fill=\"none\" stroke=\"black\" d=\"M418,-496.83C418,-482 418,-464.31 418,-448.44\"/>\n",
       "<polygon fill=\"black\" stroke=\"black\" points=\"421.5,-448.32 418,-438.32 414.5,-448.32 421.5,-448.32\"/>\n",
       "</g>\n",
       "<!-- 3 -->\n",
       "<g id=\"node4\" class=\"node\">\n",
       "<title>3</title>\n",
       "<path fill=\"#45a3e7\" stroke=\"black\" d=\"M110,-303.5C110,-303.5 12,-303.5 12,-303.5 6,-303.5 0,-297.5 0,-291.5 0,-291.5 0,-262.5 0,-262.5 0,-256.5 6,-250.5 12,-250.5 12,-250.5 110,-250.5 110,-250.5 116,-250.5 122,-256.5 122,-262.5 122,-262.5 122,-291.5 122,-291.5 122,-297.5 116,-303.5 110,-303.5\"/>\n",
       "<text text-anchor=\"start\" x=\"21.5\" y=\"-288.3\" font-family=\"Helvetica,sans-Serif\" font-size=\"14.00\">gini = 0.11</text>\n",
       "<text text-anchor=\"start\" x=\"12.5\" y=\"-273.3\" font-family=\"Helvetica,sans-Serif\" font-size=\"14.00\">samples = 51</text>\n",
       "<text text-anchor=\"start\" x=\"8\" y=\"-258.3\" font-family=\"Helvetica,sans-Serif\" font-size=\"14.00\">value = [3, 48]</text>\n",
       "</g>\n",
       "<!-- 2&#45;&gt;3 -->\n",
       "<g id=\"edge3\" class=\"edge\">\n",
       "<title>2&#45;&gt;3</title>\n",
       "<path fill=\"none\" stroke=\"black\" d=\"M163.85,-369.83C143.31,-351.49 117.88,-328.79 97.45,-310.54\"/>\n",
       "<polygon fill=\"black\" stroke=\"black\" points=\"99.68,-307.84 89.88,-303.79 95.01,-313.06 99.68,-307.84\"/>\n",
       "</g>\n",
       "<!-- 4 -->\n",
       "<g id=\"node5\" class=\"node\">\n",
       "<title>4</title>\n",
       "<path fill=\"#3c9ee5\" stroke=\"black\" d=\"M250,-303.5C250,-303.5 152,-303.5 152,-303.5 146,-303.5 140,-297.5 140,-291.5 140,-291.5 140,-262.5 140,-262.5 140,-256.5 146,-250.5 152,-250.5 152,-250.5 250,-250.5 250,-250.5 256,-250.5 262,-256.5 262,-262.5 262,-262.5 262,-291.5 262,-291.5 262,-297.5 256,-303.5 250,-303.5\"/>\n",
       "<text text-anchor=\"start\" x=\"161.5\" y=\"-288.3\" font-family=\"Helvetica,sans-Serif\" font-size=\"14.00\">gini = 0.03</text>\n",
       "<text text-anchor=\"start\" x=\"152.5\" y=\"-273.3\" font-family=\"Helvetica,sans-Serif\" font-size=\"14.00\">samples = 69</text>\n",
       "<text text-anchor=\"start\" x=\"148\" y=\"-258.3\" font-family=\"Helvetica,sans-Serif\" font-size=\"14.00\">value = [1, 68]</text>\n",
       "</g>\n",
       "<!-- 2&#45;&gt;4 -->\n",
       "<g id=\"edge4\" class=\"edge\">\n",
       "<title>2&#45;&gt;4</title>\n",
       "<path fill=\"none\" stroke=\"black\" d=\"M201,-369.83C201,-352.7 201,-331.77 201,-314.22\"/>\n",
       "<polygon fill=\"black\" stroke=\"black\" points=\"204.5,-313.79 201,-303.79 197.5,-313.79 204.5,-313.79\"/>\n",
       "</g>\n",
       "<!-- 6 -->\n",
       "<g id=\"node7\" class=\"node\">\n",
       "<title>6</title>\n",
       "<path fill=\"#cbe5f8\" stroke=\"black\" d=\"M399.5,-303.5C399.5,-303.5 292.5,-303.5 292.5,-303.5 286.5,-303.5 280.5,-297.5 280.5,-291.5 280.5,-291.5 280.5,-262.5 280.5,-262.5 280.5,-256.5 286.5,-250.5 292.5,-250.5 292.5,-250.5 399.5,-250.5 399.5,-250.5 405.5,-250.5 411.5,-256.5 411.5,-262.5 411.5,-262.5 411.5,-291.5 411.5,-291.5 411.5,-297.5 405.5,-303.5 399.5,-303.5\"/>\n",
       "<text text-anchor=\"start\" x=\"306.5\" y=\"-288.3\" font-family=\"Helvetica,sans-Serif\" font-size=\"14.00\">gini = 0.49</text>\n",
       "<text text-anchor=\"start\" x=\"297.5\" y=\"-273.3\" font-family=\"Helvetica,sans-Serif\" font-size=\"14.00\">samples = 59</text>\n",
       "<text text-anchor=\"start\" x=\"288.5\" y=\"-258.3\" font-family=\"Helvetica,sans-Serif\" font-size=\"14.00\">value = [25, 34]</text>\n",
       "</g>\n",
       "<!-- 5&#45;&gt;6 -->\n",
       "<g id=\"edge6\" class=\"edge\">\n",
       "<title>5&#45;&gt;6</title>\n",
       "<path fill=\"none\" stroke=\"black\" d=\"M398.89,-369.83C388.75,-352.22 376.29,-330.58 366.01,-312.73\"/>\n",
       "<polygon fill=\"black\" stroke=\"black\" points=\"368.88,-310.71 360.85,-303.79 362.81,-314.2 368.88,-310.71\"/>\n",
       "</g>\n",
       "<!-- 7 -->\n",
       "<g id=\"node8\" class=\"node\">\n",
       "<title>7</title>\n",
       "<path fill=\"#f6d5bd\" stroke=\"black\" d=\"M548.5,-303.5C548.5,-303.5 441.5,-303.5 441.5,-303.5 435.5,-303.5 429.5,-297.5 429.5,-291.5 429.5,-291.5 429.5,-262.5 429.5,-262.5 429.5,-256.5 435.5,-250.5 441.5,-250.5 441.5,-250.5 548.5,-250.5 548.5,-250.5 554.5,-250.5 560.5,-256.5 560.5,-262.5 560.5,-262.5 560.5,-291.5 560.5,-291.5 560.5,-297.5 554.5,-303.5 548.5,-303.5\"/>\n",
       "<text text-anchor=\"start\" x=\"455.5\" y=\"-288.3\" font-family=\"Helvetica,sans-Serif\" font-size=\"14.00\">gini = 0.48</text>\n",
       "<text text-anchor=\"start\" x=\"446.5\" y=\"-273.3\" font-family=\"Helvetica,sans-Serif\" font-size=\"14.00\">samples = 50</text>\n",
       "<text text-anchor=\"start\" x=\"437.5\" y=\"-258.3\" font-family=\"Helvetica,sans-Serif\" font-size=\"14.00\">value = [30, 20]</text>\n",
       "</g>\n",
       "<!-- 5&#45;&gt;7 -->\n",
       "<g id=\"edge7\" class=\"edge\">\n",
       "<title>5&#45;&gt;7</title>\n",
       "<path fill=\"none\" stroke=\"black\" d=\"M438.43,-369.83C449.28,-352.22 462.61,-330.58 473.6,-312.73\"/>\n",
       "<polygon fill=\"black\" stroke=\"black\" points=\"476.85,-314.14 479.11,-303.79 470.89,-310.47 476.85,-314.14\"/>\n",
       "</g>\n",
       "<!-- 9 -->\n",
       "<g id=\"node10\" class=\"node\">\n",
       "<title>9</title>\n",
       "<path fill=\"#e99659\" stroke=\"black\" d=\"M779,-438C779,-438 663,-438 663,-438 657,-438 651,-432 651,-426 651,-426 651,-382 651,-382 651,-376 657,-370 663,-370 663,-370 779,-370 779,-370 785,-370 791,-376 791,-382 791,-382 791,-426 791,-426 791,-432 785,-438 779,-438\"/>\n",
       "<text text-anchor=\"start\" x=\"681\" y=\"-422.8\" font-family=\"Helvetica,sans-Serif\" font-size=\"14.00\">Age ≤ 20.5</text>\n",
       "<text text-anchor=\"start\" x=\"681.5\" y=\"-407.8\" font-family=\"Helvetica,sans-Serif\" font-size=\"14.00\">gini = 0.24</text>\n",
       "<text text-anchor=\"start\" x=\"668\" y=\"-392.8\" font-family=\"Helvetica,sans-Serif\" font-size=\"14.00\">samples = 320</text>\n",
       "<text text-anchor=\"start\" x=\"659\" y=\"-377.8\" font-family=\"Helvetica,sans-Serif\" font-size=\"14.00\">value = [275, 45]</text>\n",
       "</g>\n",
       "<!-- 8&#45;&gt;9 -->\n",
       "<g id=\"edge9\" class=\"edge\">\n",
       "<title>8&#45;&gt;9</title>\n",
       "<path fill=\"none\" stroke=\"black\" d=\"M721,-496.83C721,-482 721,-464.31 721,-448.44\"/>\n",
       "<polygon fill=\"black\" stroke=\"black\" points=\"724.5,-448.32 721,-438.32 717.5,-448.32 724.5,-448.32\"/>\n",
       "</g>\n",
       "<!-- 18 -->\n",
       "<g id=\"node19\" class=\"node\">\n",
       "<title>18</title>\n",
       "<path fill=\"#f1bc96\" stroke=\"black\" d=\"M1005.5,-438C1005.5,-438 898.5,-438 898.5,-438 892.5,-438 886.5,-432 886.5,-426 886.5,-426 886.5,-382 886.5,-382 886.5,-376 892.5,-370 898.5,-370 898.5,-370 1005.5,-370 1005.5,-370 1011.5,-370 1017.5,-376 1017.5,-382 1017.5,-382 1017.5,-426 1017.5,-426 1017.5,-432 1011.5,-438 1005.5,-438\"/>\n",
       "<text text-anchor=\"start\" x=\"910\" y=\"-422.8\" font-family=\"Helvetica,sans-Serif\" font-size=\"14.00\">SibSp ≤ 0.5</text>\n",
       "<text text-anchor=\"start\" x=\"912.5\" y=\"-407.8\" font-family=\"Helvetica,sans-Serif\" font-size=\"14.00\">gini = 0.43</text>\n",
       "<text text-anchor=\"start\" x=\"899\" y=\"-392.8\" font-family=\"Helvetica,sans-Serif\" font-size=\"14.00\">samples = 119</text>\n",
       "<text text-anchor=\"start\" x=\"894.5\" y=\"-377.8\" font-family=\"Helvetica,sans-Serif\" font-size=\"14.00\">value = [81, 38]</text>\n",
       "</g>\n",
       "<!-- 8&#45;&gt;18 -->\n",
       "<g id=\"edge18\" class=\"edge\">\n",
       "<title>8&#45;&gt;18</title>\n",
       "<path fill=\"none\" stroke=\"black\" d=\"M781.99,-496.99C812.66,-480.4 849.98,-460.2 881.83,-442.97\"/>\n",
       "<polygon fill=\"black\" stroke=\"black\" points=\"883.53,-446.03 890.66,-438.19 880.2,-439.87 883.53,-446.03\"/>\n",
       "</g>\n",
       "<!-- 10 -->\n",
       "<g id=\"node11\" class=\"node\">\n",
       "<title>10</title>\n",
       "<path fill=\"#f1b992\" stroke=\"black\" d=\"M697.5,-303.5C697.5,-303.5 590.5,-303.5 590.5,-303.5 584.5,-303.5 578.5,-297.5 578.5,-291.5 578.5,-291.5 578.5,-262.5 578.5,-262.5 578.5,-256.5 584.5,-250.5 590.5,-250.5 590.5,-250.5 697.5,-250.5 697.5,-250.5 703.5,-250.5 709.5,-256.5 709.5,-262.5 709.5,-262.5 709.5,-291.5 709.5,-291.5 709.5,-297.5 703.5,-303.5 697.5,-303.5\"/>\n",
       "<text text-anchor=\"start\" x=\"604.5\" y=\"-288.3\" font-family=\"Helvetica,sans-Serif\" font-size=\"14.00\">gini = 0.43</text>\n",
       "<text text-anchor=\"start\" x=\"595.5\" y=\"-273.3\" font-family=\"Helvetica,sans-Serif\" font-size=\"14.00\">samples = 55</text>\n",
       "<text text-anchor=\"start\" x=\"586.5\" y=\"-258.3\" font-family=\"Helvetica,sans-Serif\" font-size=\"14.00\">value = [38, 17]</text>\n",
       "</g>\n",
       "<!-- 9&#45;&gt;10 -->\n",
       "<g id=\"edge10\" class=\"edge\">\n",
       "<title>9&#45;&gt;10</title>\n",
       "<path fill=\"none\" stroke=\"black\" d=\"M700.57,-369.83C689.72,-352.22 676.39,-330.58 665.4,-312.73\"/>\n",
       "<polygon fill=\"black\" stroke=\"black\" points=\"668.11,-310.47 659.89,-303.79 662.15,-314.14 668.11,-310.47\"/>\n",
       "</g>\n",
       "<!-- 11 -->\n",
       "<g id=\"node12\" class=\"node\">\n",
       "<title>11</title>\n",
       "<path fill=\"#e89050\" stroke=\"black\" d=\"M856,-311C856,-311 740,-311 740,-311 734,-311 728,-305 728,-299 728,-299 728,-255 728,-255 728,-249 734,-243 740,-243 740,-243 856,-243 856,-243 862,-243 868,-249 868,-255 868,-255 868,-299 868,-299 868,-305 862,-311 856,-311\"/>\n",
       "<text text-anchor=\"start\" x=\"758\" y=\"-295.8\" font-family=\"Helvetica,sans-Serif\" font-size=\"14.00\">Age ≤ 32.5</text>\n",
       "<text text-anchor=\"start\" x=\"758.5\" y=\"-280.8\" font-family=\"Helvetica,sans-Serif\" font-size=\"14.00\">gini = 0.19</text>\n",
       "<text text-anchor=\"start\" x=\"745\" y=\"-265.8\" font-family=\"Helvetica,sans-Serif\" font-size=\"14.00\">samples = 265</text>\n",
       "<text text-anchor=\"start\" x=\"736\" y=\"-250.8\" font-family=\"Helvetica,sans-Serif\" font-size=\"14.00\">value = [237, 28]</text>\n",
       "</g>\n",
       "<!-- 9&#45;&gt;11 -->\n",
       "<g id=\"edge11\" class=\"edge\">\n",
       "<title>9&#45;&gt;11</title>\n",
       "<path fill=\"none\" stroke=\"black\" d=\"M741.43,-369.83C750.83,-354.57 762.09,-336.3 772.07,-320.09\"/>\n",
       "<polygon fill=\"black\" stroke=\"black\" points=\"775.21,-321.67 777.47,-311.32 769.25,-318 775.21,-321.67\"/>\n",
       "</g>\n",
       "<!-- 12 -->\n",
       "<g id=\"node13\" class=\"node\">\n",
       "<title>12</title>\n",
       "<path fill=\"#ea985d\" stroke=\"black\" d=\"M774.5,-184C774.5,-184 667.5,-184 667.5,-184 661.5,-184 655.5,-178 655.5,-172 655.5,-172 655.5,-128 655.5,-128 655.5,-122 661.5,-116 667.5,-116 667.5,-116 774.5,-116 774.5,-116 780.5,-116 786.5,-122 786.5,-128 786.5,-128 786.5,-172 786.5,-172 786.5,-178 780.5,-184 774.5,-184\"/>\n",
       "<text text-anchor=\"start\" x=\"672.5\" y=\"-168.8\" font-family=\"Helvetica,sans-Serif\" font-size=\"14.00\">LogFare ≤ 2.2</text>\n",
       "<text text-anchor=\"start\" x=\"681.5\" y=\"-153.8\" font-family=\"Helvetica,sans-Serif\" font-size=\"14.00\">gini = 0.26</text>\n",
       "<text text-anchor=\"start\" x=\"668\" y=\"-138.8\" font-family=\"Helvetica,sans-Serif\" font-size=\"14.00\">samples = 104</text>\n",
       "<text text-anchor=\"start\" x=\"663.5\" y=\"-123.8\" font-family=\"Helvetica,sans-Serif\" font-size=\"14.00\">value = [88, 16]</text>\n",
       "</g>\n",
       "<!-- 11&#45;&gt;12 -->\n",
       "<g id=\"edge12\" class=\"edge\">\n",
       "<title>11&#45;&gt;12</title>\n",
       "<path fill=\"none\" stroke=\"black\" d=\"M777.57,-242.83C768.17,-227.57 756.91,-209.3 746.93,-193.09\"/>\n",
       "<polygon fill=\"black\" stroke=\"black\" points=\"749.75,-191 741.53,-184.32 743.79,-194.67 749.75,-191\"/>\n",
       "</g>\n",
       "<!-- 15 -->\n",
       "<g id=\"node16\" class=\"node\">\n",
       "<title>15</title>\n",
       "<path fill=\"#e78b49\" stroke=\"black\" d=\"M933,-184C933,-184 817,-184 817,-184 811,-184 805,-178 805,-172 805,-172 805,-128 805,-128 805,-122 811,-116 817,-116 817,-116 933,-116 933,-116 939,-116 945,-122 945,-128 945,-128 945,-172 945,-172 945,-178 939,-184 933,-184\"/>\n",
       "<text text-anchor=\"start\" x=\"822\" y=\"-168.8\" font-family=\"Helvetica,sans-Serif\" font-size=\"14.00\">LogFare ≤ 2.19</text>\n",
       "<text text-anchor=\"start\" x=\"835.5\" y=\"-153.8\" font-family=\"Helvetica,sans-Serif\" font-size=\"14.00\">gini = 0.14</text>\n",
       "<text text-anchor=\"start\" x=\"822\" y=\"-138.8\" font-family=\"Helvetica,sans-Serif\" font-size=\"14.00\">samples = 161</text>\n",
       "<text text-anchor=\"start\" x=\"813\" y=\"-123.8\" font-family=\"Helvetica,sans-Serif\" font-size=\"14.00\">value = [149, 12]</text>\n",
       "</g>\n",
       "<!-- 11&#45;&gt;15 -->\n",
       "<g id=\"edge15\" class=\"edge\">\n",
       "<title>11&#45;&gt;15</title>\n",
       "<path fill=\"none\" stroke=\"black\" d=\"M818.43,-242.83C827.83,-227.57 839.09,-209.3 849.07,-193.09\"/>\n",
       "<polygon fill=\"black\" stroke=\"black\" points=\"852.21,-194.67 854.47,-184.32 846.25,-191 852.21,-194.67\"/>\n",
       "</g>\n",
       "<!-- 13 -->\n",
       "<g id=\"node14\" class=\"node\">\n",
       "<title>13</title>\n",
       "<path fill=\"#eda978\" stroke=\"black\" d=\"M633.5,-58.5C633.5,-58.5 526.5,-58.5 526.5,-58.5 520.5,-58.5 514.5,-52.5 514.5,-46.5 514.5,-46.5 514.5,-17.5 514.5,-17.5 514.5,-11.5 520.5,-5.5 526.5,-5.5 526.5,-5.5 633.5,-5.5 633.5,-5.5 639.5,-5.5 645.5,-11.5 645.5,-17.5 645.5,-17.5 645.5,-46.5 645.5,-46.5 645.5,-52.5 639.5,-58.5 633.5,-58.5\"/>\n",
       "<text text-anchor=\"start\" x=\"540.5\" y=\"-43.3\" font-family=\"Helvetica,sans-Serif\" font-size=\"14.00\">gini = 0.36</text>\n",
       "<text text-anchor=\"start\" x=\"531.5\" y=\"-28.3\" font-family=\"Helvetica,sans-Serif\" font-size=\"14.00\">samples = 50</text>\n",
       "<text text-anchor=\"start\" x=\"522.5\" y=\"-13.3\" font-family=\"Helvetica,sans-Serif\" font-size=\"14.00\">value = [38, 12]</text>\n",
       "</g>\n",
       "<!-- 12&#45;&gt;13 -->\n",
       "<g id=\"edge13\" class=\"edge\">\n",
       "<title>12&#45;&gt;13</title>\n",
       "<path fill=\"none\" stroke=\"black\" d=\"M680.6,-115.76C661.23,-99.83 638.13,-80.82 618.95,-65.05\"/>\n",
       "<polygon fill=\"black\" stroke=\"black\" points=\"620.94,-62.15 611,-58.5 616.5,-67.56 620.94,-62.15\"/>\n",
       "</g>\n",
       "<!-- 14 -->\n",
       "<g id=\"node15\" class=\"node\">\n",
       "<title>14</title>\n",
       "<path fill=\"#e78b49\" stroke=\"black\" d=\"M774,-58.5C774,-58.5 676,-58.5 676,-58.5 670,-58.5 664,-52.5 664,-46.5 664,-46.5 664,-17.5 664,-17.5 664,-11.5 670,-5.5 676,-5.5 676,-5.5 774,-5.5 774,-5.5 780,-5.5 786,-11.5 786,-17.5 786,-17.5 786,-46.5 786,-46.5 786,-52.5 780,-58.5 774,-58.5\"/>\n",
       "<text text-anchor=\"start\" x=\"685.5\" y=\"-43.3\" font-family=\"Helvetica,sans-Serif\" font-size=\"14.00\">gini = 0.14</text>\n",
       "<text text-anchor=\"start\" x=\"676.5\" y=\"-28.3\" font-family=\"Helvetica,sans-Serif\" font-size=\"14.00\">samples = 54</text>\n",
       "<text text-anchor=\"start\" x=\"672\" y=\"-13.3\" font-family=\"Helvetica,sans-Serif\" font-size=\"14.00\">value = [50, 4]</text>\n",
       "</g>\n",
       "<!-- 12&#45;&gt;14 -->\n",
       "<g id=\"edge14\" class=\"edge\">\n",
       "<title>12&#45;&gt;14</title>\n",
       "<path fill=\"none\" stroke=\"black\" d=\"M722.15,-115.76C722.65,-101.11 723.25,-83.86 723.76,-68.91\"/>\n",
       "<polygon fill=\"black\" stroke=\"black\" points=\"727.27,-68.62 724.12,-58.5 720.28,-68.37 727.27,-68.62\"/>\n",
       "</g>\n",
       "<!-- 16 -->\n",
       "<g id=\"node17\" class=\"node\">\n",
       "<title>16</title>\n",
       "<path fill=\"#e68641\" stroke=\"black\" d=\"M921,-58.5C921,-58.5 823,-58.5 823,-58.5 817,-58.5 811,-52.5 811,-46.5 811,-46.5 811,-17.5 811,-17.5 811,-11.5 817,-5.5 823,-5.5 823,-5.5 921,-5.5 921,-5.5 927,-5.5 933,-11.5 933,-17.5 933,-17.5 933,-46.5 933,-46.5 933,-52.5 927,-58.5 921,-58.5\"/>\n",
       "<text text-anchor=\"start\" x=\"832.5\" y=\"-43.3\" font-family=\"Helvetica,sans-Serif\" font-size=\"14.00\">gini = 0.08</text>\n",
       "<text text-anchor=\"start\" x=\"823.5\" y=\"-28.3\" font-family=\"Helvetica,sans-Serif\" font-size=\"14.00\">samples = 75</text>\n",
       "<text text-anchor=\"start\" x=\"819\" y=\"-13.3\" font-family=\"Helvetica,sans-Serif\" font-size=\"14.00\">value = [72, 3]</text>\n",
       "</g>\n",
       "<!-- 15&#45;&gt;16 -->\n",
       "<g id=\"edge16\" class=\"edge\">\n",
       "<title>15&#45;&gt;16</title>\n",
       "<path fill=\"none\" stroke=\"black\" d=\"M874.14,-115.76C873.76,-101.11 873.32,-83.86 872.93,-68.91\"/>\n",
       "<polygon fill=\"black\" stroke=\"black\" points=\"876.42,-68.41 872.66,-58.5 869.42,-68.59 876.42,-68.41\"/>\n",
       "</g>\n",
       "<!-- 17 -->\n",
       "<g id=\"node18\" class=\"node\">\n",
       "<title>17</title>\n",
       "<path fill=\"#e89050\" stroke=\"black\" d=\"M1061,-58.5C1061,-58.5 963,-58.5 963,-58.5 957,-58.5 951,-52.5 951,-46.5 951,-46.5 951,-17.5 951,-17.5 951,-11.5 957,-5.5 963,-5.5 963,-5.5 1061,-5.5 1061,-5.5 1067,-5.5 1073,-11.5 1073,-17.5 1073,-17.5 1073,-46.5 1073,-46.5 1073,-52.5 1067,-58.5 1061,-58.5\"/>\n",
       "<text text-anchor=\"start\" x=\"972.5\" y=\"-43.3\" font-family=\"Helvetica,sans-Serif\" font-size=\"14.00\">gini = 0.19</text>\n",
       "<text text-anchor=\"start\" x=\"963.5\" y=\"-28.3\" font-family=\"Helvetica,sans-Serif\" font-size=\"14.00\">samples = 86</text>\n",
       "<text text-anchor=\"start\" x=\"959\" y=\"-13.3\" font-family=\"Helvetica,sans-Serif\" font-size=\"14.00\">value = [77, 9]</text>\n",
       "</g>\n",
       "<!-- 15&#45;&gt;17 -->\n",
       "<g id=\"edge17\" class=\"edge\">\n",
       "<title>15&#45;&gt;17</title>\n",
       "<path fill=\"none\" stroke=\"black\" d=\"M914.26,-115.76C933.08,-99.83 955.52,-80.82 974.15,-65.05\"/>\n",
       "<polygon fill=\"black\" stroke=\"black\" points=\"976.51,-67.63 981.88,-58.5 971.99,-62.29 976.51,-67.63\"/>\n",
       "</g>\n",
       "<!-- 19 -->\n",
       "<g id=\"node20\" class=\"node\">\n",
       "<title>19</title>\n",
       "<path fill=\"#f6d5bd\" stroke=\"black\" d=\"M1005.5,-303.5C1005.5,-303.5 898.5,-303.5 898.5,-303.5 892.5,-303.5 886.5,-297.5 886.5,-291.5 886.5,-291.5 886.5,-262.5 886.5,-262.5 886.5,-256.5 892.5,-250.5 898.5,-250.5 898.5,-250.5 1005.5,-250.5 1005.5,-250.5 1011.5,-250.5 1017.5,-256.5 1017.5,-262.5 1017.5,-262.5 1017.5,-291.5 1017.5,-291.5 1017.5,-297.5 1011.5,-303.5 1005.5,-303.5\"/>\n",
       "<text text-anchor=\"start\" x=\"912.5\" y=\"-288.3\" font-family=\"Helvetica,sans-Serif\" font-size=\"14.00\">gini = 0.48</text>\n",
       "<text text-anchor=\"start\" x=\"903.5\" y=\"-273.3\" font-family=\"Helvetica,sans-Serif\" font-size=\"14.00\">samples = 60</text>\n",
       "<text text-anchor=\"start\" x=\"894.5\" y=\"-258.3\" font-family=\"Helvetica,sans-Serif\" font-size=\"14.00\">value = [36, 24]</text>\n",
       "</g>\n",
       "<!-- 18&#45;&gt;19 -->\n",
       "<g id=\"edge19\" class=\"edge\">\n",
       "<title>18&#45;&gt;19</title>\n",
       "<path fill=\"none\" stroke=\"black\" d=\"M952,-369.83C952,-352.7 952,-331.77 952,-314.22\"/>\n",
       "<polygon fill=\"black\" stroke=\"black\" points=\"955.5,-313.79 952,-303.79 948.5,-313.79 955.5,-313.79\"/>\n",
       "</g>\n",
       "<!-- 20 -->\n",
       "<g id=\"node21\" class=\"node\">\n",
       "<title>20</title>\n",
       "<path fill=\"#eda877\" stroke=\"black\" d=\"M1154.5,-303.5C1154.5,-303.5 1047.5,-303.5 1047.5,-303.5 1041.5,-303.5 1035.5,-297.5 1035.5,-291.5 1035.5,-291.5 1035.5,-262.5 1035.5,-262.5 1035.5,-256.5 1041.5,-250.5 1047.5,-250.5 1047.5,-250.5 1154.5,-250.5 1154.5,-250.5 1160.5,-250.5 1166.5,-256.5 1166.5,-262.5 1166.5,-262.5 1166.5,-291.5 1166.5,-291.5 1166.5,-297.5 1160.5,-303.5 1154.5,-303.5\"/>\n",
       "<text text-anchor=\"start\" x=\"1061.5\" y=\"-288.3\" font-family=\"Helvetica,sans-Serif\" font-size=\"14.00\">gini = 0.36</text>\n",
       "<text text-anchor=\"start\" x=\"1052.5\" y=\"-273.3\" font-family=\"Helvetica,sans-Serif\" font-size=\"14.00\">samples = 59</text>\n",
       "<text text-anchor=\"start\" x=\"1043.5\" y=\"-258.3\" font-family=\"Helvetica,sans-Serif\" font-size=\"14.00\">value = [45, 14]</text>\n",
       "</g>\n",
       "<!-- 18&#45;&gt;20 -->\n",
       "<g id=\"edge20\" class=\"edge\">\n",
       "<title>18&#45;&gt;20</title>\n",
       "<path fill=\"none\" stroke=\"black\" d=\"M991.54,-369.83C1013.5,-351.41 1040.7,-328.59 1062.49,-310.3\"/>\n",
       "<polygon fill=\"black\" stroke=\"black\" points=\"1064.85,-312.9 1070.26,-303.79 1060.35,-307.54 1064.85,-312.9\"/>\n",
       "</g>\n",
       "</g>\n",
       "</svg>\n"
      ],
      "text/plain": [
       "<graphviz.sources.Source at 0x7f59468b0940>"
      ]
     },
     "execution_count": 41,
     "metadata": {},
     "output_type": "execute_result"
    }
   ],
   "source": [
    "# we can set min_samples_leaf\n",
    "m = DecisionTreeClassifier(min_samples_leaf=50)\n",
    "m.fit(trn_xs, trn_y)\n",
    "draw_tree(m, trn_xs, size=12)"
   ]
  },
  {
   "cell_type": "code",
   "execution_count": null,
   "metadata": {},
   "outputs": [],
   "source": []
  }
 ],
 "metadata": {
  "kernelspec": {
   "display_name": "Python 3 (ipykernel)",
   "language": "python",
   "name": "python3"
  },
  "language_info": {
   "codemirror_mode": {
    "name": "ipython",
    "version": 3
   },
   "file_extension": ".py",
   "mimetype": "text/x-python",
   "name": "python",
   "nbconvert_exporter": "python",
   "pygments_lexer": "ipython3",
   "version": "3.10.10"
  }
 },
 "nbformat": 4,
 "nbformat_minor": 4
}
